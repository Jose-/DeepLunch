{
 "cells": [
  {
   "cell_type": "markdown",
   "metadata": {},
   "source": [
    "# Cài đặt và minh hoạ thuật toán Stochastic Gradient Descent\n",
    "\n",
    "Tác giả: Phạm Quang Nhật Minh (FTRI)\n",
    "\n",
    "## Giới thiệu\n",
    "\n",
    "Trong notebook này, chúng tôi sẽ cài đặt thuật toán Gradient Descent, Stochastic Gradient Descent (SGD), Mini-Batch Gradient Descent và thử nghiệm trên dữ liệu phân lớp. Chúng tôi sẽ so sánh thuật toán SGD với thuật toán Gradient Descent thông thường.\n",
    "\n",
    "## Dữ liệu\n",
    "\n",
    "Bài tập sẽ sử dụng dữ liệu trong file ```ex2data1.txt```. Bài toán đặt ra như sau. Giả sử bạn là một người quản lý đầu vào tại một trường đại học. Bạn muốn xác định khả năng một thí sinh được nhận vào học dựa trên kết quả của 2 kỳ thi. Bạn có dữ liệu trong quá khứ của các thí sinh để làm dữ liệu huấn luyện cho thuật toán Logistic Regression. Với mỗi ví dụ trong dữ liệu huấn luyện, bạn có điểm thi của 2 kì thi của thí sinh và giá trị quyết định xem thí sinh đó có được nhận hay không.\n",
    "\n",
    "### Khám phá dữ liệu\n",
    "\n",
    "Tôi sẽ đọc dữ liệu với thư viện ```pandas``` và vẽ các đồ thị trên dữ liệu."
   ]
  },
  {
   "cell_type": "code",
   "execution_count": 3,
   "metadata": {},
   "outputs": [
    {
     "data": {
      "text/html": [
       "<div>\n",
       "<table border=\"1\" class=\"dataframe\">\n",
       "  <thead>\n",
       "    <tr style=\"text-align: right;\">\n",
       "      <th></th>\n",
       "      <th>0</th>\n",
       "      <th>1</th>\n",
       "      <th>2</th>\n",
       "    </tr>\n",
       "  </thead>\n",
       "  <tbody>\n",
       "    <tr>\n",
       "      <th>0</th>\n",
       "      <td>34.623660</td>\n",
       "      <td>78.024693</td>\n",
       "      <td>0.0</td>\n",
       "    </tr>\n",
       "    <tr>\n",
       "      <th>1</th>\n",
       "      <td>30.286711</td>\n",
       "      <td>43.894998</td>\n",
       "      <td>0.0</td>\n",
       "    </tr>\n",
       "    <tr>\n",
       "      <th>2</th>\n",
       "      <td>35.847409</td>\n",
       "      <td>72.902198</td>\n",
       "      <td>0.0</td>\n",
       "    </tr>\n",
       "    <tr>\n",
       "      <th>3</th>\n",
       "      <td>60.182599</td>\n",
       "      <td>86.308552</td>\n",
       "      <td>1.0</td>\n",
       "    </tr>\n",
       "    <tr>\n",
       "      <th>4</th>\n",
       "      <td>79.032736</td>\n",
       "      <td>75.344376</td>\n",
       "      <td>1.0</td>\n",
       "    </tr>\n",
       "  </tbody>\n",
       "</table>\n",
       "</div>"
      ],
      "text/plain": [
       "           0          1    2\n",
       "0  34.623660  78.024693  0.0\n",
       "1  30.286711  43.894998  0.0\n",
       "2  35.847409  72.902198  0.0\n",
       "3  60.182599  86.308552  1.0\n",
       "4  79.032736  75.344376  1.0"
      ]
     },
     "execution_count": 3,
     "metadata": {},
     "output_type": "execute_result"
    }
   ],
   "source": [
    "import pandas as pd\n",
    "import numpy as np\n",
    "\n",
    "df = pd.read_csv('./ex2data1.txt', dtype=np.float64, header=None)\n",
    "\n",
    "df.head()"
   ]
  },
  {
   "cell_type": "markdown",
   "metadata": {},
   "source": [
    "Bảng ở trên hiển thị một số ví dụ trong dữ liệu huấn luyện. Các hàng của ma trận $X$ tương ứng với các ví dụ, các cột tương ứng với các đặc trưng (ở đây là hai điểm số).\n",
    "\n",
    "Trước khi cài đặt một thuật toán học máy nào, bạn nên vẽ đồ thị để khám phá dữ liệu. Đoạn code dưới đây sẽ hiển thị 2-D plot thể hiện mối quan hệ giữa 2 điểm thi của các thí sinh."
   ]
  },
  {
   "cell_type": "code",
   "execution_count": 4,
   "metadata": {},
   "outputs": [
    {
     "data": {
      "image/png": "[encoded data removed]",
      "text/plain": [
       "<matplotlib.figure.Figure at 0x114f19198>"
      ]
     },
     "metadata": {},
     "output_type": "display_data"
    }
   ],
   "source": [
    "%matplotlib inline\n",
    "import matplotlib.pyplot as plt\n",
    "import numpy as np\n",
    "\n",
    "X = df.iloc[:,0:2]\n",
    "y = df.iloc[:,2]\n",
    "\n",
    "def plot_data(X, y):\n",
    "    # indexes of admitted and not admitted students\n",
    "    pos = y == 1\n",
    "    neg = y == 0\n",
    "    plt.scatter( X.loc[pos,0], X.loc[pos,1], marker='+', c='b')\n",
    "    plt.scatter( X.loc[neg,0], X.loc[neg,1], c='y')\n",
    "    return plt\n",
    "\n",
    "plt = plot_data(X, y)\n",
    "plt.xlabel('Exam 1 score')\n",
    "plt.ylabel('Exam 2 score')\n",
    "plt.legend( ('Admitted', 'Not admitted'), loc = 'upper right' )  \n",
    "plt.show()"
   ]
  },
  {
   "cell_type": "markdown",
   "metadata": {},
   "source": [
    "Sau khi đọc dữ liệu vào các biến $X$ và $y$, ta cần thêm các \"intercept term\" vào ma trận $X$ và khởi tạo giá trị ban đầu của $\\theta$"
   ]
  },
  {
   "cell_type": "markdown",
   "metadata": {},
   "source": [
    "## Logistic Regression và thuật toán tối ưu gradient descent\n",
    "\n",
    "Logistic Regression (LR) là một thuật toán được sử dụng trong bài toán phân lớp. Khác với linear regression, logistic regression sử dụng hàm sigmoid function để định nghĩa hypothesis function. Ký hiệu $x$ là vector đặc trưng. Hàm hypothesis trong Logistic Regression được định nghĩa như sau.\n",
    "\n",
    "$$h_\\theta(x) = g(\\theta^Tx)$$\n",
    "\n",
    "trong đó $g$ là hàm sigmoid, $\\theta$ là vector trọng số tương ứng với các đặc trưng trong $x$. Hàm sigmoid được định nghĩa như sau:\n",
    "\n",
    "$$g(z)=\\frac{1}{1+e^{-z}}$$\n",
    "\n",
    "Trong bài toán phân lớp, chúng ta có một tập huấn luyện (training data) bao gồm các ví dụ (vector đặc trưng) và nhãn tương ứng.\n",
    "\n",
    "$$\\{(x^{(1)},y^{(1)}),(x^{(2)},y^{(2)}),\\cdots,(x^{(m)},y^{(m)})\\}$$\n",
    "\n",
    "Khi huấn luyện mô hình logistic regression, chúng ta cần tìm vector trọng số $\\theta$ sao cho khi áp dụng chính mô hình trên dữ liệu training, độ mất mát (cost) là nhỏ nhất. Trong logistic regression, hàm giá (cost function) được định nghĩa như sau:\n",
    "\n",
    "$$J(\\theta) =\\frac{1}{m}\\sum_{i=1}^{m}\\left[-y^{(i)}log(h_\\theta(x^{(i)})) - (1-y^{(i)})log(1-h_\\theta(x^{(i)}))\\right]$$\n",
    "\n",
    "Ta cần tìm $\\theta$ để cực tiểu hàm giá trên. Để tìm cực tiểu cost function, chúng ta dùng thuật toán gradient descent bằng cách di chuyển dần từ một vị trí ban đầu tới điểm cực tiểu theo ngược phương với phương tiếp tuyến tại vị trí hiện tại. Để tìm $\\theta$ ta có thể áp dụng thuật toán \"batch gradient descent\". Tại mỗi vòng lặp, ta thực hiện việc cập nhật tham số sau đây.\n",
    "\n",
    "Repeat {\n",
    "\n",
    "$\\theta_j = \\theta_j - \\alpha\\frac{\\partial}{\\partial\\theta_j}J(\\theta)$\n",
    "\n",
    "}\n",
    "\n",
    "Trong đó, ta cập nhật đồng thời các giá trị $\\theta_{j}$ với mọi $j$. \n",
    "\n",
    "Gradient của cost function là 1 vector có cùng độ dài với $\\theta$ trong đó phần tử $j^{th}$ (với $j=0,1,\\cdots,n$) được định nghĩa như sau:\n",
    "\n",
    "$$\\frac{\\partial J(\\theta)}{\\partial \\theta_j}=\\frac{1}{m}\\sum_{i=1}^{m}\\left(h_\\theta(x^{(i)})-y^{(i)}\\right)x_j^{(i)}$$\n",
    "\n",
    "Như vậy tại mỗi vòng lặp, chúng ta sẽ thực hiện việc cập nhật tham số sau đây:\n",
    "\n",
    "Repeat {\n",
    "\n",
    "$\\theta_j = \\theta_j - \\alpha\\frac{1}{m}\\sum_{i=1}^{m}\\left(h_\\theta(x^{(i)})-y^{(i)}\\right)x_j^{(i)}$\n",
    "\n",
    "}\n",
    "\n",
    "Như vậy về cơ bản, trong thuật toán **batch gradient descent**, tại mỗi vòng lặp, chúng ta phải tính gradient bằng cách duyệt qua toàn bộ các example có trong dữ liệu huấn luyện.\n",
    "\n",
    "Trước khi cài đặt thuật toán gradient descent, ta cần cài đặt hàm tính cost function và hàm tính gradient."
   ]
  },
  {
   "cell_type": "code",
   "execution_count": 5,
   "metadata": {
    "collapsed": true
   },
   "outputs": [],
   "source": [
    "# z can be np.ndarray, np.matrix, or scalar\n",
    "def sigmoid(z):\n",
    "    return 1 / ( 1 + np.exp(-z) ) \n",
    "\n",
    "# X.shape m x n\n",
    "# theta.shape n x 1\n",
    "# y.shape m x 1\n",
    "def cost_function(theta, X, y):\n",
    "    m = y.shape[0]\n",
    "    J = 0\n",
    "    hx = sigmoid( np.dot(X, theta) ) # hx.shape m x 1\n",
    "    J = np.sum( -y * np.log(hx) - (1-y) * np.log(1-hx) )/m\n",
    "    return J\n",
    "\n",
    "# gradient function\n",
    "def gradient(theta, X, y):\n",
    "    m = y.shape[0]\n",
    "    grad_ = np.zeros( theta.shape[0] )\n",
    "    hx = sigmoid( np.dot(X, theta) ) # hx.shape m x 1\n",
    "    grad_ = np.dot(X.T, hx - y) / m\n",
    "    return grad_"
   ]
  },
  {
   "cell_type": "markdown",
   "metadata": {},
   "source": [
    "Trước khi fit tham số $\\theta$ bằng dữ liệu đã cho, ta cần thêm các \"intercept term\" vào ma trận $X$ và khởi tạo giá trị ban đầu của $\\theta$."
   ]
  },
  {
   "cell_type": "code",
   "execution_count": 6,
   "metadata": {},
   "outputs": [
    {
     "name": "stdout",
     "output_type": "stream",
     "text": [
      "100 2\n"
     ]
    },
    {
     "data": {
      "text/plain": [
       "(100, 3)"
      ]
     },
     "execution_count": 6,
     "metadata": {},
     "output_type": "execute_result"
    }
   ],
   "source": [
    "m, n = X.shape\n",
    "print (m, n)\n",
    "\n",
    "X = np.concatenate( ( np.ones( (m, 1) ), X ), axis=1 )\n",
    "initial_theta = np.zeros(n + 1)\n",
    "X.shape"
   ]
  },
  {
   "cell_type": "markdown",
   "metadata": {},
   "source": [
    "Sau khi định nghĩa hàm ```cost_function```, ta sẽ tính giá trị của cost function với giá trị khởi tạo ban đầu của $\\theta$. Kết quả thu được của cost khoảng $0.693$."
   ]
  },
  {
   "cell_type": "code",
   "execution_count": 7,
   "metadata": {
    "scrolled": true
   },
   "outputs": [
    {
     "name": "stdout",
     "output_type": "stream",
     "text": [
      "(100, 3)\n",
      "(100,)\n",
      "[ 0.  0.  0.]\n",
      "Cost at initial theta (zeros): 0.693147\n",
      "Gradient at initial theta (zeros):\n",
      "[ -0.1        -12.00921659 -11.26284221]\n"
     ]
    }
   ],
   "source": [
    "cost = cost_function(initial_theta, X, y)\n",
    "grad = gradient(initial_theta, X, y)\n",
    "print(X.shape)\n",
    "print(y.shape)\n",
    "print(initial_theta)\n",
    "print('Cost at initial theta (zeros): %f' % cost)\n",
    "print('Gradient at initial theta (zeros):\\n%s' % grad)"
   ]
  },
  {
   "cell_type": "markdown",
   "metadata": {},
   "source": [
    "Đoạn code dưới đây sẽ cài đặt thuật toán **batch gradient descent**. Chú ý, ở đây ```J_history``` được sử dụng để lưu giá trị hàm giá sau mỗi vòng lặp. Giá trị này sẽ được dùng để vẽ đồ thị liên hệ giữa số vòng lặp với hàm giá và chúng ta sẽ quan sát được độ giảm của hàm giá khi số vòng lặp tăng lên.\n",
    "\n",
    "Nhắc lại công thức cập nhật tham số trong mỗi vòng lặp như sau.\n",
    "\n",
    "Repeat {\n",
    "\n",
    "$\\theta_j = \\theta_j - \\alpha\\frac{1}{m}\\sum_{i=1}^{m}\\left(h_\\theta(x^{(i)})-y^{(i)}\\right)x_j^{(i)}$\n",
    "\n",
    "}"
   ]
  },
  {
   "cell_type": "code",
   "execution_count": 8,
   "metadata": {},
   "outputs": [],
   "source": [
    "# alpha là learning rate\n",
    "# num_iters là số vòng lặp\n",
    "def gradient_descent(X, y, initial_theta, alpha, num_iters):\n",
    "    m = y.shape[0]\n",
    "    n = X.shape[1]\n",
    "    theta = np.array(initial_theta)\n",
    "    J_history = np.zeros(num_iters)\n",
    "\n",
    "    for iter in range(num_iters):\n",
    "        temp = sigmoid( np.dot(X, theta) ) - y\n",
    "        for j in range(n):\n",
    "            delta = 0.0\n",
    "            for i in range(m):\n",
    "                delta += temp[i] * X[i,j]\n",
    "            theta[j] -= alpha * delta/m\n",
    "        J_history[iter] = cost_function(theta, X, y)\n",
    "        \n",
    "    return theta, J_history"
   ]
  },
  {
   "cell_type": "markdown",
   "metadata": {},
   "source": [
    "Chúng ta sẽ tính $\\theta$ bằng cách \"fit\" dữ liệu với hàm ```gradient_descent``` được định nghĩa ở trên."
   ]
  },
  {
   "cell_type": "code",
   "execution_count": 10,
   "metadata": {},
   "outputs": [
    {
     "name": "stdout",
     "output_type": "stream",
     "text": [
      "Theta = [-0.34165779  0.01280173  0.00310974]\n",
      "Cost at theta (found by fmin): 0.606459\n",
      "Optimization terminated successfully.\n",
      "         Current function value: 0.203498\n",
      "         Iterations: 157\n",
      "         Function evaluations: 287\n"
     ]
    }
   ],
   "source": [
    "alpha = 0.001\n",
    "num_iters = 5000\n",
    "\n",
    "theta, J_history = gradient_descent(X, y, initial_theta, alpha, num_iters)\n",
    "print(\"Theta = %s\" % theta)\n",
    "print('Cost at theta (found by fmin): %f' % cost_function(theta, X, y))\n",
    "\n",
    "# We can use fmin function in scipy.optimize module to calculate theta\n",
    "# from scipy.optimize import fmin_bfgs, fmin\n",
    "# theta = fmin( cost_function, initial_theta, args=(X,y) )"
   ]
  },
  {
   "cell_type": "markdown",
   "metadata": {},
   "source": [
    "### Đánh giá độ chính xác của mô hình trên dữ liệu huấn luyện\n",
    "\n",
    "Sau khi học các tham số $\\theta$, chúng ta có thể sử dụng mô hình đã học để tính xác suất một sinh viên trúng tuyển. Ví dụ: Tính xác suất một sinh viên với điểm thi 1 là 45, điểm thi 2 là 85. Đoạn code sau sẽ thực hiện công việc đó:"
   ]
  },
  {
   "cell_type": "code",
   "execution_count": 457,
   "metadata": {},
   "outputs": [
    {
     "name": "stdout",
     "output_type": "stream",
     "text": [
      "Xác suất sinh viên (với điểm số 45, 85) trúng tuyển: 0.622165\n"
     ]
    }
   ],
   "source": [
    "st = np.array( [1, 45, 85] )\n",
    "prob = sigmoid( np.dot(theta, st) )\n",
    "print('Xác suất sinh viên (với điểm số 45, 85) trúng tuyển: %f' % prob)"
   ]
  },
  {
   "cell_type": "markdown",
   "metadata": {},
   "source": [
    "Một cách để đánh giá chất lượng của các số học từ dữ liệu là đánh giá độ chính xác của dự đoán trên dữ liệu huấn luyện sử dụng các tham số này. Để thực hiện công việc này, trước tiên, chúng ta sẽ cài đặt hàm ```predict``` -- hàm trả về các giá trị 1 và 0 với dữ liệu và tham số $\\theta$."
   ]
  },
  {
   "cell_type": "code",
   "execution_count": 458,
   "metadata": {
    "collapsed": true
   },
   "outputs": [],
   "source": [
    "# theta.shape = (n,)\n",
    "# X.shape = (m, n)\n",
    "# should return an array with shape (m,)\n",
    "def predict(theta, X):\n",
    "    hx = np.dot(X, theta)\n",
    "    hx[hx >= 0.5] = 1\n",
    "    hx[hx < 0.5] = 0\n",
    "    \n",
    "    return hx"
   ]
  },
  {
   "cell_type": "markdown",
   "metadata": {},
   "source": [
    "Chúng ta sẽ sử dụng hàm ```predict``` để tính độ chính xác trên dữ liệu huấn luyện."
   ]
  },
  {
   "cell_type": "code",
   "execution_count": 459,
   "metadata": {},
   "outputs": [
    {
     "name": "stdout",
     "output_type": "stream",
     "text": [
      "Train accuracy: 82.0\n"
     ]
    }
   ],
   "source": [
    "p = predict(theta, X)\n",
    "print('Train accuracy: %s' % ( 100 * (p == y).mean() ))"
   ]
  },
  {
   "cell_type": "markdown",
   "metadata": {},
   "source": [
    "### Vẽ đồ thị hội tụ (convergence graph)\n",
    "\n",
    "Chúng ta có thể muốn quan sát xem hàm giá giảm như thế nào sau các vòng lặp. Chúng ta sẽ sử dụng các giá trị lưu trong ```J_history```."
   ]
  },
  {
   "cell_type": "code",
   "execution_count": 460,
   "metadata": {},
   "outputs": [
    {
     "data": {
      "image/png": "[encoded data removed]",
      "text/plain": [
       "<matplotlib.figure.Figure at 0x11ace7e10>"
      ]
     },
     "metadata": {},
     "output_type": "display_data"
    }
   ],
   "source": [
    "niters = 2000\n",
    "# Plot the convergence graph\n",
    "plt.plot( range(1, niters + 1), J_history[0:niters] )\n",
    "plt.xlabel('Number of iterations');\n",
    "plt.ylabel('Cost J');\n",
    "plt.show()"
   ]
  },
  {
   "cell_type": "markdown",
   "metadata": {},
   "source": [
    "Có thể thấy, khi số vòng lặp tăng lên thì giá trị của cost function cũng giảm đi."
   ]
  },
  {
   "cell_type": "markdown",
   "metadata": {},
   "source": [
    "## Thuật toán tối ưu Stochastic Gradient Descent\n",
    "\n",
    "Trong thuật toán Gradient Descent, tại mỗi bước cập nhật tham số, chúng ta sẽ phải duyệt qua toàn bộ các examples trong dữ liệu huấn luyện. Điều này có thể tốn kém nếu số lượng examples trong dữ liệu huấn luyện là rất lớn. Trong thuật toán Stochastic Gradient Descent (SGD), chúng ta sẽ duyệt lần lượt duyệt từng ví dụ và cập nhật tham số theo lỗi tương ứng với chỉ example đó. Thông thường, thuật toán SGD sẽ đạt đến giá trị $\\theta$ gần với giá trị tối ưu nhanh hơn so với thuật toán **batch gradient descent**.\n",
    "\n",
    "Thuật toán SGD sẽ cập nhật tham số như sau:\n",
    "\n",
    "Loop {\n",
    "\n",
    "for i=1 to m, {\n",
    "\n",
    "   $\\theta_j = \\theta_j - \\alpha\\left(h_\\theta(x^{(i)})-y^{(i)}\\right)x_j^{(i)}$ (for every $j$)\n",
    "   \n",
    "}\n",
    "\n",
    "}\n",
    "\n",
    "Đoạn mã sau đây sẽ cài đặt thuật toán Stochastic Gradient Descent (SGD)"
   ]
  },
  {
   "cell_type": "code",
   "execution_count": 461,
   "metadata": {
    "collapsed": true
   },
   "outputs": [],
   "source": [
    "def SGD(X, y, initial_theta, alpha, num_iters):\n",
    "    m = y.shape[0]\n",
    "    n = X.shape[1]\n",
    "    theta = np.zeros(n)\n",
    "    J_history = np.zeros(num_iters)\n",
    "\n",
    "    for iter in range(num_iters):\n",
    "        # Randomize dữ liệu\n",
    "        for i in range(m):\n",
    "            error = sigmoid( np.dot(theta, X[i,:]) ) - y[i] \n",
    "            gradient = X[i,:].dot(error)\n",
    "            theta -= alpha * gradient\n",
    "        J_history[iter] = cost_function(theta, X, y)\n",
    "        \n",
    "    return theta, J_history"
   ]
  },
  {
   "cell_type": "code",
   "execution_count": 462,
   "metadata": {},
   "outputs": [
    {
     "name": "stdout",
     "output_type": "stream",
     "text": [
      "Theta = [-19.44333201   0.19833455   0.17474059]\n",
      "Cost at theta (found by fmin): 0.623321\n"
     ]
    }
   ],
   "source": [
    "initial_theta = np.zeros(X.shape[1] + 1)\n",
    "alpha = 0.001\n",
    "num_iters = 5000\n",
    "theta, J_history = SGD(X, y, initial_theta, alpha, num_iters)\n",
    "print(\"Theta = %s\" % theta)\n",
    "print('Cost at theta (found by fmin): %f' % cost_function(theta, X, y))"
   ]
  },
  {
   "cell_type": "markdown",
   "metadata": {},
   "source": [
    "Tương tự như trên, ta cũng đánh giá khả năng fit dữ liệu của mô hình bằng cách tính độ chính xác trên dữ liệu huấn luyện."
   ]
  },
  {
   "cell_type": "code",
   "execution_count": 463,
   "metadata": {},
   "outputs": [
    {
     "name": "stdout",
     "output_type": "stream",
     "text": [
      "Xác suất sinh viên (với điểm số 45, 85) trúng tuyển: 0.987063\n",
      "Train accuracy: 78.0\n"
     ]
    }
   ],
   "source": [
    "st = np.array( [1, 45, 85] )\n",
    "prob = sigmoid( np.dot(theta, st) )\n",
    "print('Xác suất sinh viên (với điểm số 45, 85) trúng tuyển: %f' % prob)\n",
    "\n",
    "p = predict(theta, X)\n",
    "print('Train accuracy: %s' % ( 100 * (p == y).mean() ))"
   ]
  },
  {
   "cell_type": "markdown",
   "metadata": {},
   "source": [
    "Đồ thị hội tụ trong trường hợp dùng SGD."
   ]
  },
  {
   "cell_type": "code",
   "execution_count": 464,
   "metadata": {},
   "outputs": [
    {
     "data": {
      "image/png": "[encoded data removed]",
      "text/plain": [
       "<matplotlib.figure.Figure at 0x11ade0780>"
      ]
     },
     "metadata": {},
     "output_type": "display_data"
    }
   ],
   "source": [
    "niters = 2000\n",
    "# Plot the convergence graph\n",
    "plt.plot( range(1, niters + 1), J_history[0:niters] )\n",
    "plt.xlabel('Number of iterations');\n",
    "plt.ylabel('Cost J');\n",
    "plt.show()"
   ]
  },
  {
   "cell_type": "markdown",
   "metadata": {},
   "source": [
    "## Thuật toán mini-batch gradient descent\n",
    "\n",
    "Thuật toán **mini-batch gradient descent** tận dụng những ưu điểm của cả 2 thuật toán **batch gradient descent** và **stochastic gradient descent**. Thuật toán này sẽ thực hiện việc cập nhật với mỗi *mini-batch* gồm *k* ví dụ huấn luyện (training examples).\n",
    "\n",
    "Thuật toán mini-batch gradient được cài đặt trong ngôn ngữ Python như sau:"
   ]
  },
  {
   "cell_type": "code",
   "execution_count": 465,
   "metadata": {
    "collapsed": true
   },
   "outputs": [],
   "source": [
    "def mini_batch_gd(X, y, initial_theta, alpha, num_iters, batch_size):\n",
    "    m = y.shape[0]\n",
    "    n = X.shape[1]\n",
    "    theta = np.zeros(n)\n",
    "    J_history = np.zeros(num_iters)\n",
    "    \n",
    "    for iter in range(num_iters):\n",
    "        # TO-DO: implement randomized data\n",
    "        for i in range(0, m, batch_size):\n",
    "            batchX = X[i:i+batch_size,:]\n",
    "            batchY = y[i:i+batch_size]\n",
    "            error = sigmoid( np.dot(batchX, theta) ) - batchY\n",
    "            gradient = batchX.T.dot(error)/batch_size\n",
    "            theta -= alpha * gradient\n",
    "        J_history[iter] = cost_function(theta, X, y)\n",
    "        \n",
    "    return theta, J_history"
   ]
  },
  {
   "cell_type": "code",
   "execution_count": 466,
   "metadata": {},
   "outputs": [
    {
     "name": "stdout",
     "output_type": "stream",
     "text": [
      "Theta = [-0.67411132  0.01931192  0.00946836]\n",
      "Cost at theta (found by fmin): 0.612518\n"
     ]
    }
   ],
   "source": [
    "alpha = 0.0001\n",
    "num_iters = 5000\n",
    "theta, J_history = mini_batch_gd(X, y, initial_theta, alpha, num_iters, 5)\n",
    "print(\"Theta = %s\" % theta)\n",
    "print('Cost at theta (found by fmin): %f' % cost_function(theta, X, y))"
   ]
  },
  {
   "cell_type": "markdown",
   "metadata": {},
   "source": [
    "Đánh giá mô hình đã học và vẽ đồ thị hội tụ."
   ]
  },
  {
   "cell_type": "code",
   "execution_count": 467,
   "metadata": {},
   "outputs": [
    {
     "name": "stdout",
     "output_type": "stream",
     "text": [
      "Xác suất sinh viên (với điểm số 45, 85) trúng tuyển: 0.731007\n",
      "Train accuracy: 65.0\n"
     ]
    }
   ],
   "source": [
    "st = np.array( [1, 45, 85] )\n",
    "prob = sigmoid( np.dot(theta, st) )\n",
    "print('Xác suất sinh viên (với điểm số 45, 85) trúng tuyển: %f' % prob)\n",
    "\n",
    "p = predict(theta, X)\n",
    "print('Train accuracy: %s' % ( 100 * (p == y).mean() ))"
   ]
  },
  {
   "cell_type": "code",
   "execution_count": 468,
   "metadata": {},
   "outputs": [
    {
     "data": {
      "image/png": "[encoded data removed]",
      "text/plain": [
       "<matplotlib.figure.Figure at 0x11a58f358>"
      ]
     },
     "metadata": {},
     "output_type": "display_data"
    }
   ],
   "source": [
    "niters = 2000\n",
    "# Plot the convergence graph\n",
    "plt.plot( range(1, niters + 1), J_history[0:niters] )\n",
    "plt.xlabel('Number of iterations');\n",
    "plt.ylabel('Cost J');\n",
    "plt.show()"
   ]
  },
  {
   "cell_type": "markdown",
   "metadata": {},
   "source": [
    "Xem thêm phân tích về thuật toán Stochastic Gradient Descent tại [đây](sebastianruder.com/optimizing-gradient-descent/index.html)."
   ]
  },
  {
   "cell_type": "markdown",
   "metadata": {},
   "source": [
    "## Sử dụng thư viện scikit-learn\n",
    "\n",
    "Trong phần này, chúng ta sẽ sử dụng thư viện scikit-learn để học mô hình từ dữ liệu. Chúng tôi sử dụng class ```LogisticRegression```."
   ]
  },
  {
   "cell_type": "code",
   "execution_count": 2,
   "metadata": {},
   "outputs": [
    {
     "data": {
      "text/plain": [
       "LogisticRegression(C=10, class_weight=None, dual=False, fit_intercept=True,\n",
       "          intercept_scaling=1, max_iter=100, multi_class='ovr', n_jobs=1,\n",
       "          penalty='l2', random_state=None, solver='lbfgs', tol=0.0001,\n",
       "          verbose=0, warm_start=False)"
      ]
     },
     "execution_count": 2,
     "metadata": {},
     "output_type": "execute_result"
    }
   ],
   "source": [
    "import pandas as pd\n",
    "import numpy as np\n",
    "from sklearn.linear_model import SGDClassifier\n",
    "from sklearn.linear_model import LogisticRegression\n",
    "\n",
    "df = pd.read_csv('./ex2data1.txt', dtype=np.float64, header=None)\n",
    "X = df.iloc[:,0:2]\n",
    "y = df.iloc[:,2]\n",
    "\n",
    "clf = LogisticRegression(C=10, solver='lbfgs')\n",
    "clf.fit(X, y)"
   ]
  },
  {
   "cell_type": "markdown",
   "metadata": {},
   "source": [
    "Tính training accuracy."
   ]
  },
  {
   "cell_type": "code",
   "execution_count": 3,
   "metadata": {},
   "outputs": [
    {
     "name": "stdout",
     "output_type": "stream",
     "text": [
      "Training accuracy = 0.89\n"
     ]
    }
   ],
   "source": [
    "train_acc = clf.score(X, y)\n",
    "print('Training accuracy = %0.2f' % train_acc)"
   ]
  },
  {
   "cell_type": "markdown",
   "metadata": {},
   "source": [
    "Có thể thấy khi sử dụng thư viện chuẩn LogisticRegression, chúng ta có thể \"fit\" rất tốt dữ liệu huấn luyện.\n",
    "\n",
    "Sau đây chúng ta sẽ thử sử dụng lớp ```SGDClassifier``` (Xem [http://scikit-learn.org/stable/modules/sgd.html](http://scikit-learn.org/stable/modules/sgd.html)) để fit dữ liệu huấn luyện."
   ]
  },
  {
   "cell_type": "code",
   "execution_count": 4,
   "metadata": {},
   "outputs": [
    {
     "name": "stdout",
     "output_type": "stream",
     "text": [
      "Training accuracy = 0.92\n"
     ]
    }
   ],
   "source": [
    "clf = SGDClassifier(loss='log', n_iter=6000, random_state=100)\n",
    "clf.fit(X, y)\n",
    "train_acc = clf.score(X, y)\n",
    "print('Training accuracy = %0.2f' % train_acc)"
   ]
  },
  {
   "cell_type": "markdown",
   "metadata": {},
   "source": [
    "## Kết luận\n",
    "\n",
    "Trong tài liệu này, chúng ta đã thử cài đặt các 3 thuật toán:\n",
    "\n",
    "- Gradient Descent\n",
    "- Stochastic Gradient Descent (SGD)\n",
    "- Mini-batch gradient descent\n",
    "\n",
    "Thuật toán **mini-batch gradient descent** được sử dụng khá nhiều khi huấn luyện mạng Neural và trong trường hợp số lượng ví dụ huấn luyện là rất lớn. Tuy nhiên để có thể tận dụng được sức mạnh của thuật toán này, chúng ta phải sử dụng các kỹ thuật vectorization khi cài đặt. Điều này có thể làm được nếu chúng ta dùng thư viện python numpy."
   ]
  },
  {
   "cell_type": "markdown",
   "metadata": {},
   "source": [
    "## Tham khảo\n",
    "\n",
    "1. [Stochastic Gradient Descent (SGD) with Python](http://www.pyimagesearch.com/2016/10/17/stochastic-gradient-descent-sgd-with-python/)\n",
    "2. [An Introduction to Gradient Descent and Linear Regression](https://spin.atomicobject.com/2014/06/24/gradient-descent-linear-regression/), by Matt Nedrich.\n",
    "3. Learning with large data sets (video lecture), by Andrew Ng: [http://tinyurl.com/jcc4ycv](http://tinyurl.com/jcc4ycv).\n",
    "4. On overview of gradient descent optimization algorithms, by  Sebastian Ruder: [http://tinyurl.com/zf7aqsd](http://tinyurl.com/zf7aqsd).\n",
    "5. Section 5.9, Stochastic Gradient Descent: [http://www.deeplearningbook.org/contents/ml.html](http://www.deeplearningbook.org/contents/ml.html)\n",
    "6. Stochastic Gradient Descent (SGD) library in scikit-learn: [http://scikit-learn.org/stable/modules/sgd.html](http://scikit-learn.org/stable/modules/sgd.html).\n",
    "7. [Theano basic tutorial](http://deeplearning.net/software/theano/tutorial)\n",
    "8. [Deep Learning Tutorials using Theano](http://deeplearning.net/tutorial)"
   ]
  }
 ],
 "metadata": {
  "anaconda-cloud": {},
  "kernelspec": {
   "display_name": "Python 3",
   "language": "python",
   "name": "python3"
  },
  "language_info": {
   "codemirror_mode": {
    "name": "ipython",
    "version": 3
   },
   "file_extension": ".py",
   "mimetype": "text/x-python",
   "name": "python",
   "nbconvert_exporter": "python",
   "pygments_lexer": "ipython3",
   "version": "3.6.3"
  }
 },
 "nbformat": 4,
 "nbformat_minor": 1
}
